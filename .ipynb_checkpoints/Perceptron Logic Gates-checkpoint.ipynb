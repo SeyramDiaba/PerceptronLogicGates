{
 "cells": [
  {
   "cell_type": "markdown",
   "id": "64469bdc",
   "metadata": {},
   "source": [
    "# Import Libraries"
   ]
  },
  {
   "cell_type": "code",
   "execution_count": 1,
   "id": "81b8f42b",
   "metadata": {},
   "outputs": [],
   "source": [
    "from sklearn.linear_model import Perceptron\n",
    "import matplotlib.pyplot as plt\n",
    "import numpy as np\n",
    "from itertools import product\n",
    "import seaborn as sns"
   ]
  },
  {
   "cell_type": "markdown",
   "id": "5d69a36e",
   "metadata": {},
   "source": [
    "## Gate and Labels"
   ]
  },
  {
   "cell_type": "code",
   "execution_count": 2,
   "id": "ed3f3400",
   "metadata": {},
   "outputs": [],
   "source": [
    "# AND gates input\n",
    "data = [[0,0],[0,1],[1,0],[1,1]]\n",
    "\n",
    "# labels of AND gates\n",
    "labels = [0,0,0,1]\n",
    "\n",
    "# label for OR gates\n",
    "# labels = [0,1,1,1]\n"
   ]
  },
  {
   "cell_type": "markdown",
   "id": "814ac576",
   "metadata": {},
   "source": [
    "## Plot Gate Points"
   ]
  },
  {
   "cell_type": "code",
   "execution_count": 3,
   "id": "b3e1c11a",
   "metadata": {},
   "outputs": [
    {
     "data": {
      "image/png": "[encoded data removed]",
      "text/plain": [
       "<Figure size 432x288 with 1 Axes>"
      ]
     },
     "metadata": {
      "needs_background": "light"
     },
     "output_type": "display_data"
    },
    {
     "data": {
      "text/plain": [
       "<Figure size 432x288 with 0 Axes>"
      ]
     },
     "metadata": {},
     "output_type": "display_data"
    }
   ],
   "source": [
    "plt.scatter([point[0] for point in data],[point[1] for point in data], c= labels)\n",
    "plt.show()\n",
    "plt.clf()"
   ]
  },
  {
   "cell_type": "markdown",
   "id": "b8adbee8",
   "metadata": {},
   "source": [
    "## Perceptron Object"
   ]
  },
  {
   "cell_type": "code",
   "execution_count": 4,
   "id": "ebf5f978",
   "metadata": {},
   "outputs": [
    {
     "name": "stdout",
     "output_type": "stream",
     "text": [
      "1.0\n",
      "[-2.  2.  0.]\n"
     ]
    }
   ],
   "source": [
    "# Perceptron object\n",
    "classifier = Perceptron(max_iter=40)\n",
    "\n",
    "# Training the model\n",
    "classifier.fit(data,labels)\n",
    "\n",
    "# Checking of the algorithm learned AND gates\n",
    "print(classifier.score(data,labels))\n",
    "\n",
    "# Investigating classifiers decision\n",
    "print(classifier.decision_function([[0, 0], [1, 1], [0.5, 0.5]]))\n",
    "\n",
    "# list of points to comopare distance of points from decision boundaries.\n",
    "x_values = np.linspace(0,1,100)\n",
    "y_values = np.linspace(0,1,100)\n",
    "\n",
    "point_grid = list(product(x_values,y_values))"
   ]
  },
  {
   "cell_type": "markdown",
   "id": "bd3f9510",
   "metadata": {},
   "source": [
    "# Calling decision function on point grid"
   ]
  },
  {
   "cell_type": "code",
   "execution_count": 5,
   "id": "c4991b9f",
   "metadata": {},
   "outputs": [],
   "source": [
    "distances = classifier.decision_function(point_grid)\n",
    "\n",
    "#Taking the absolute value of every distance\n",
    "abs_distances = [abs(num) for num in distances]\n",
    "\n",
    "# convert abs_distances to a 100*100 two dimensional array.\n",
    "distances_matrix = np.reshape(abs_distances,(100,100))\n"
   ]
  },
  {
   "cell_type": "markdown",
   "id": "659d8458",
   "metadata": {},
   "source": [
    "## Heat map of distances "
   ]
  },
  {
   "cell_type": "code",
   "execution_count": 6,
   "id": "f210a4da",
   "metadata": {
    "scrolled": false
   },
   "outputs": [
    {
     "name": "stderr",
     "output_type": "stream",
     "text": [
      "<ipython-input-6-8d2cd0899055>:1: MatplotlibDeprecationWarning: shading='flat' when X and Y have the same dimensions as C is deprecated since 3.3.  Either specify the corners of the quadrilaterals with X and Y, or pass shading='auto', 'nearest' or 'gouraud', or set rcParams['pcolor.shading'].  This will become an error two minor releases later.\n",
      "  heatmap =plt.pcolormesh(x_values,y_values,distances_matrix)\n"
     ]
    },
    {
     "data": {
      "image/png": "[encoded data removed]",
      "text/plain": [
       "<Figure size 432x288 with 2 Axes>"
      ]
     },
     "metadata": {
      "needs_background": "light"
     },
     "output_type": "display_data"
    },
    {
     "data": {
      "text/plain": [
       "<Figure size 432x288 with 0 Axes>"
      ]
     },
     "metadata": {},
     "output_type": "display_data"
    }
   ],
   "source": [
    "heatmap =plt.pcolormesh(x_values,y_values,distances_matrix)\n",
    "plt.colorbar()\n",
    "plt.show()\n",
    "plt.clf()\n",
    "\n"
   ]
  }
 ],
 "metadata": {
  "kernelspec": {
   "display_name": "Python 3",
   "language": "python",
   "name": "python3"
  },
  "language_info": {
   "codemirror_mode": {
    "name": "ipython",
    "version": 3
   },
   "file_extension": ".py",
   "mimetype": "text/x-python",
   "name": "python",
   "nbconvert_exporter": "python",
   "pygments_lexer": "ipython3",
   "version": "3.8.8"
  }
 },
 "nbformat": 4,
 "nbformat_minor": 5
}
